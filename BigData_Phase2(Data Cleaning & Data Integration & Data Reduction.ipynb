{
  "cells": [
    {
      "cell_type": "markdown",
      "metadata": {
        "id": "AMIgB23ltqYb"
      },
      "source": [
        "# 📝 Data Preprocessing\n",
        "\n",
        "---\n",
        "\n",
        "## 📌 1️. Introduction\n",
        "This notebook preprocesses the **Students' Academic Performance** dataset by:"
      ]
    },
    {
      "cell_type": "code",
      "execution_count": null,
      "metadata": {
        "id": "gbWN9i4NtqYd"
      },
      "outputs": [],
      "source": [
        "import pandas as pd\n",
        "import numpy as np\n",
        "import seaborn as sns\n",
        "import matplotlib.pyplot as plt"
      ]
    },
    {
      "cell_type": "code",
      "execution_count": null,
      "metadata": {
        "id": "sqA74MRjtqYe",
        "outputId": "b974f6cc-fd5b-437b-f3c2-47c1a52bfaa4"
      },
      "outputs": [
        {
          "name": "stdout",
          "output_type": "stream",
          "text": [
            "  gender NationalITy PlaceofBirth     StageID GradeID SectionID Topic  \\\n",
            "0      M          KW       KuwaIT  lowerlevel    G-04         A    IT   \n",
            "1      M          KW       KuwaIT  lowerlevel    G-04         A    IT   \n",
            "2      M          KW       KuwaIT  lowerlevel    G-04         A    IT   \n",
            "3      M          KW       KuwaIT  lowerlevel    G-04         A    IT   \n",
            "4      M          KW       KuwaIT  lowerlevel    G-04         A    IT   \n",
            "\n",
            "  Semester Relation  raisedhands  VisITedResources  AnnouncementsView  \\\n",
            "0        F   Father           15                16                  2   \n",
            "1        F   Father           20                20                  3   \n",
            "2        F   Father           10                 7                  0   \n",
            "3        F   Father           30                25                  5   \n",
            "4        F   Father           40                50                 12   \n",
            "\n",
            "   Discussion ParentAnsweringSurvey ParentschoolSatisfaction  \\\n",
            "0          20                   Yes                     Good   \n",
            "1          25                   Yes                     Good   \n",
            "2          30                    No                      Bad   \n",
            "3          35                    No                      Bad   \n",
            "4          50                    No                      Bad   \n",
            "\n",
            "  StudentAbsenceDays Class  \n",
            "0            Under-7     M  \n",
            "1            Under-7     M  \n",
            "2            Above-7     L  \n",
            "3            Above-7     L  \n",
            "4            Above-7     M  \n"
          ]
        }
      ],
      "source": [
        "file_path = \"xAPI-Edu-Data.csv\"\n",
        "\n",
        "# Load CSV into a Pandas DataFrame\n",
        "df = pd.read_csv(file_path)\n",
        "\n",
        "print(df.head())  # Show first 5 rows"
      ]
    },
    {
      "cell_type": "code",
      "execution_count": null,
      "metadata": {
        "id": "3qtX0WDltqYf",
        "outputId": "d8f231ba-6f5f-4709-cba3-e96860add1a4"
      },
      "outputs": [
        {
          "name": "stdout",
          "output_type": "stream",
          "text": [
            "<class 'pandas.core.frame.DataFrame'>\n",
            "RangeIndex: 480 entries, 0 to 479\n",
            "Data columns (total 17 columns):\n",
            " #   Column                    Non-Null Count  Dtype \n",
            "---  ------                    --------------  ----- \n",
            " 0   gender                    480 non-null    object\n",
            " 1   NationalITy               480 non-null    object\n",
            " 2   PlaceofBirth              480 non-null    object\n",
            " 3   StageID                   480 non-null    object\n",
            " 4   GradeID                   480 non-null    object\n",
            " 5   SectionID                 480 non-null    object\n",
            " 6   Topic                     480 non-null    object\n",
            " 7   Semester                  480 non-null    object\n",
            " 8   Relation                  480 non-null    object\n",
            " 9   raisedhands               480 non-null    int64 \n",
            " 10  VisITedResources          480 non-null    int64 \n",
            " 11  AnnouncementsView         480 non-null    int64 \n",
            " 12  Discussion                480 non-null    int64 \n",
            " 13  ParentAnsweringSurvey     480 non-null    object\n",
            " 14  ParentschoolSatisfaction  480 non-null    object\n",
            " 15  StudentAbsenceDays        480 non-null    object\n",
            " 16  Class                     480 non-null    object\n",
            "dtypes: int64(4), object(13)\n",
            "memory usage: 63.9+ KB\n",
            "None\n"
          ]
        }
      ],
      "source": [
        "print(df.info())  # Show data types and missing values"
      ]
    },
    {
      "cell_type": "markdown",
      "metadata": {
        "id": "djq5OPYJtqYg"
      },
      "source": [
        "## 📌 2️. Checking for Duplicates 🔍\n",
        "Duplicate rows can lead to biased analysis, but in this dataset, some records appear similar **because they represent the same student in different semesters**.\n",
        "\n",
        "After reviewing the duplicate rows, they were **not removed** since they contain different values for:\n",
        "- **Semester** (`F` vs. `S`)\n",
        "- **raisedhands**\n",
        "- **VisITedResources**\n",
        "- **AnnouncementsView**\n",
        "- **Discussion**\n",
        "\n",
        "These differences indicate that the dataset is **tracking student activities separately for each semester** rather than repeating identical data.\n",
        "\n",
        "**🟢 Conclusion:**\n",
        "- **Number of duplicate rows found:** `2`\n",
        "- **Action taken:** **Kept** all records, as they represent different semester data.\n",
        "- **Next step:** Use the **Semester column** in future analysis to differentiate between performance in different terms."
      ]
    },
    {
      "cell_type": "code",
      "execution_count": null,
      "metadata": {
        "id": "gsgG8DBWtqYg",
        "outputId": "ba21f0df-495c-4c5d-fb1e-f490b9ec6c74"
      },
      "outputs": [
        {
          "name": "stdout",
          "output_type": "stream",
          "text": [
            "Number of duplicate rows: 2\n",
            "Displaying some duplicate rows:\n",
            "    gender NationalITy PlaceofBirth     StageID GradeID SectionID   Topic  \\\n",
            "326      M      Jordan       Jordan  lowerlevel    G-02         A  French   \n",
            "327      M      Jordan       Jordan  lowerlevel    G-02         A  French   \n",
            "\n",
            "    Semester Relation  raisedhands  VisITedResources  AnnouncementsView  \\\n",
            "326        F   Father           10                15                 10   \n",
            "327        S   Father           30                10                 20   \n",
            "\n",
            "     Discussion ParentAnsweringSurvey ParentschoolSatisfaction  \\\n",
            "326          21                    No                      Bad   \n",
            "327           5                    No                      Bad   \n",
            "\n",
            "    StudentAbsenceDays Class  \n",
            "326            Above-7     L  \n",
            "327            Above-7     L  \n"
          ]
        }
      ],
      "source": [
        "duplicate_rows = df[df.duplicated()]\n",
        "print(f\"Number of duplicate rows: {duplicate_rows.shape[0]}\")\n",
        "\n",
        "if not duplicate_rows.empty:\n",
        "    print(\"Displaying some duplicate rows:\")\n",
        "    print(duplicate_rows.head(10))"
      ]
    },
    {
      "cell_type": "markdown",
      "metadata": {
        "id": "3QpTG1QYtqYh"
      },
      "source": [
        "## 📌 3️. Handling Missing Values ❌\n",
        "Missing values can negatively impact analysis and machine learning models. Therefore, it's important to check for any missing values in the dataset.\n",
        "\n",
        "After performing a missing value check, **no missing values were found** in any column.\n",
        "\n",
        "| Column Name                | Missing Values |\n",
        "|----------------------------|---------------|\n",
        "| gender                     | **0**         |\n",
        "| NationalITy                | **0**         |\n",
        "| PlaceofBirth               | **0**         |\n",
        "| StageID                    | **0**         |\n",
        "| GradeID                    | **0**         |\n",
        "| SectionID                  | **0**         |\n",
        "| Topic                      | **0**         |\n",
        "| Semester                   | **0**         |\n",
        "| Relation                   | **0**         |\n",
        "| raisedhands                | **0**         |\n",
        "| VisITedResources           | **0**         |\n",
        "| AnnouncementsView          | **0**         |\n",
        "| Discussion                 | **0**         |\n",
        "| ParentAnsweringSurvey      | **0**         |\n",
        "| ParentschoolSatisfaction   | **0**         |\n",
        "| StudentAbsenceDays         | **0**         |\n",
        "| Class                      | **0**         |\n",
        "\n",
        "### 🟢 **Conclusion:**\n",
        "- **No missing values detected** ✅\n",
        "- **No imputation or data cleaning was needed** for missing values."
      ]
    },
    {
      "cell_type": "code",
      "execution_count": null,
      "metadata": {
        "id": "OaadOYGvtqYi",
        "outputId": "7f359fbf-3c09-45cb-f3c7-eb7860dae252"
      },
      "outputs": [
        {
          "name": "stdout",
          "output_type": "stream",
          "text": [
            "Missing values per column:\n",
            "gender                      0\n",
            "NationalITy                 0\n",
            "PlaceofBirth                0\n",
            "StageID                     0\n",
            "GradeID                     0\n",
            "SectionID                   0\n",
            "Topic                       0\n",
            "Semester                    0\n",
            "Relation                    0\n",
            "raisedhands                 0\n",
            "VisITedResources            0\n",
            "AnnouncementsView           0\n",
            "Discussion                  0\n",
            "ParentAnsweringSurvey       0\n",
            "ParentschoolSatisfaction    0\n",
            "StudentAbsenceDays          0\n",
            "Class                       0\n",
            "dtype: int64\n"
          ]
        }
      ],
      "source": [
        "missing_values = df.isnull().sum()\n",
        "print(\"Missing values per column:\")\n",
        "print(missing_values)"
      ]
    },
    {
      "cell_type": "markdown",
      "metadata": {
        "id": "XenZsrbTtqYi"
      },
      "source": [
        "## 📌 4️. Standardizing Categorical Columns 🔄\n",
        "To maintain consistency, categorical values were converted to lowercase and trimmed.\n",
        "\n",
        "| **Column Name**    | **Original Values**           | **Standardized Values**  |\n",
        "|--------------------|------------------------------|--------------------------|\n",
        "| `NationalITy`     | `\"kw\", \"kuwalt\", \"lebanon\"`   | `\"kuwait\", \"lebanon\"`   |\n",
        "| `StageID`         | `\"lowerlevel\", \"middleschool\"` | `\"lower_school\", \"middle_school\"` |\n",
        "\n",
        "**🟢 Conclusion:**\n",
        "- Inconsistent values were **standardized** to improve data quality."
      ]
    },
    {
      "cell_type": "code",
      "execution_count": null,
      "metadata": {
        "id": "0Hawf8jGtqYj",
        "outputId": "ceec28ad-1a04-4bf6-cd83-2a90e249ec06"
      },
      "outputs": [
        {
          "name": "stdout",
          "output_type": "stream",
          "text": [
            "  gender NationalITy PlaceofBirth     StageID GradeID SectionID Topic  \\\n",
            "0      m          kw       kuwait  lowerlevel    g-04         a    it   \n",
            "1      m          kw       kuwait  lowerlevel    g-04         a    it   \n",
            "2      m          kw       kuwait  lowerlevel    g-04         a    it   \n",
            "3      m          kw       kuwait  lowerlevel    g-04         a    it   \n",
            "4      m          kw       kuwait  lowerlevel    g-04         a    it   \n",
            "\n",
            "  Semester Relation  raisedhands  VisITedResources  AnnouncementsView  \\\n",
            "0        f   father           15                16                  2   \n",
            "1        f   father           20                20                  3   \n",
            "2        f   father           10                 7                  0   \n",
            "3        f   father           30                25                  5   \n",
            "4        f   father           40                50                 12   \n",
            "\n",
            "   Discussion ParentAnsweringSurvey ParentschoolSatisfaction  \\\n",
            "0          20                   yes                     good   \n",
            "1          25                   yes                     good   \n",
            "2          30                    no                      bad   \n",
            "3          35                    no                      bad   \n",
            "4          50                    no                      bad   \n",
            "\n",
            "  StudentAbsenceDays Class  \n",
            "0            under-7     m  \n",
            "1            under-7     m  \n",
            "2            above-7     l  \n",
            "3            above-7     l  \n",
            "4            above-7     m  \n"
          ]
        }
      ],
      "source": [
        "categorical_columns = [\n",
        "    \"gender\", \"NationalITy\", \"PlaceofBirth\", \"StageID\", \"GradeID\",\n",
        "    \"SectionID\", \"Topic\", \"Semester\", \"Relation\",\n",
        "    \"ParentAnsweringSurvey\", \"ParentschoolSatisfaction\",\n",
        "    \"StudentAbsenceDays\", \"Class\"\n",
        "]\n",
        "\n",
        "df[categorical_columns] = df[categorical_columns].apply(lambda x: x.str.lower().str.strip())\n",
        "\n",
        "print(df.head())  # Show preview after transformation"
      ]
    },
    {
      "cell_type": "markdown",
      "metadata": {
        "id": "7IrEeophtqYj"
      },
      "source": [
        "## 📌 5️. Encoding Categorical Variables 🔢\n",
        "Machine learning models prefer numerical data. Below is the encoding applied:\n",
        "\n",
        "| **Column Name**              | **Original Values**       | **Converted To**        |\n",
        "|------------------------------|--------------------------|-------------------------|\n",
        "| **StudentAbsenceDays**       | `\"low\", \"high\"`          | `0 = low, 1 = high`     |\n",
        "| **Semester**                 | `\"F\", \"S\"`               | `1 = F, 2 = S`          |\n",
        "| **ParentAnsweringSurvey**     | `\"yes\", \"no\"`           | `1 = yes, 0 = no`       |\n",
        "| **ParentschoolSatisfaction** | `\"good\", \"bad\"`         | `1 = good, 0 = bad`     |\n",
        "| **Class**                    | `\"h\", \"m\", \"l\"`         | `2 = h, 1 = m, 0 = l`   |\n",
        "\n",
        "**🟢 Conclusion:**\n",
        "- Categorical values were successfully **converted to numerical values** for better machine learning performance."
      ]
    },
    {
      "cell_type": "code",
      "execution_count": null,
      "metadata": {
        "id": "3OUFzkL9tqYk",
        "outputId": "60b9045c-d39b-440f-83aa-062bb9ab5196"
      },
      "outputs": [
        {
          "name": "stdout",
          "output_type": "stream",
          "text": [
            "NationalITy\n",
            "kuwait         179\n",
            "jordan         172\n",
            "palestine       28\n",
            "iraq            22\n",
            "lebanon         17\n",
            "tunis           12\n",
            "saudiarabia     11\n",
            "egypt            9\n",
            "syria            7\n",
            "usa              6\n",
            "iran             6\n",
            "lybia            6\n",
            "morocco          4\n",
            "venzuela         1\n",
            "Name: count, dtype: int64\n"
          ]
        }
      ],
      "source": [
        "df[\"NationalITy\"] = df[\"NationalITy\"].replace({\"kw\": \"kuwait\", \"lebanon\": \"lebanon\"})\n",
        "df[\"PlaceofBirth\"] = df[\"PlaceofBirth\"].replace({\"kuwait\": \"kuwait\"})\n",
        "df[\"StageID\"] = df[\"StageID\"].replace({\"lowerlevel\": \"lower_school\", \"middleschool\": \"middle_school\"})\n",
        "\n",
        "print(df[\"NationalITy\"].value_counts())  # Check standardized values"
      ]
    },
    {
      "cell_type": "code",
      "execution_count": null,
      "metadata": {
        "id": "kUG_Nj9_tqYk",
        "outputId": "66cb9e26-4872-455e-fd4a-adba25530efb"
      },
      "outputs": [
        {
          "name": "stdout",
          "output_type": "stream",
          "text": [
            "   ParentAnsweringSurvey  ParentschoolSatisfaction\n",
            "0                      1                         1\n",
            "1                      1                         1\n",
            "2                      0                         0\n",
            "3                      0                         0\n",
            "4                      0                         0\n"
          ]
        },
        {
          "name": "stderr",
          "output_type": "stream",
          "text": [
            "C:\\Users\\rmalz\\AppData\\Local\\Temp\\ipykernel_24484\\3756323360.py:3: FutureWarning: Downcasting behavior in `replace` is deprecated and will be removed in a future version. To retain the old behavior, explicitly call `result.infer_objects(copy=False)`. To opt-in to the future behavior, set `pd.set_option('future.no_silent_downcasting', True)`\n",
            "  df[binary_columns] = df[binary_columns].replace({\"yes\": 1, \"no\": 0, \"good\": 1, \"bad\": 0})\n"
          ]
        }
      ],
      "source": [
        "binary_columns = [\"ParentAnsweringSurvey\", \"ParentschoolSatisfaction\"]\n",
        "\n",
        "df[binary_columns] = df[binary_columns].replace({\"yes\": 1, \"no\": 0, \"good\": 1, \"bad\": 0})\n",
        "\n",
        "print(df[binary_columns].head())"
      ]
    },
    {
      "cell_type": "code",
      "execution_count": null,
      "metadata": {
        "id": "wXd-OM2DtqYl",
        "outputId": "3acb2b22-50c4-479d-9422-6de986660429"
      },
      "outputs": [
        {
          "name": "stdout",
          "output_type": "stream",
          "text": [
            "  StudentAbsenceDays  Class\n",
            "0                low      1\n",
            "1                low      1\n",
            "2               high      0\n",
            "3               high      0\n",
            "4               high      1\n"
          ]
        }
      ],
      "source": [
        "df[\"StudentAbsenceDays\"] = df[\"StudentAbsenceDays\"].replace({\"under-7\": \"low\", \"above-7\": \"high\"})\n",
        "\n",
        "df[\"Class\"] = df[\"Class\"].replace({\"h\": 2, \"m\": 1, \"l\": 0})\n",
        "\n",
        "print(df[[\"StudentAbsenceDays\", \"Class\"]].head())"
      ]
    },
    {
      "cell_type": "code",
      "execution_count": null,
      "metadata": {
        "id": "Kx8lBIW3tqYl",
        "outputId": "7b4a504f-9274-4bee-9153-ce46a34191fb"
      },
      "outputs": [
        {
          "name": "stderr",
          "output_type": "stream",
          "text": [
            "C:\\Users\\rmalz\\AppData\\Local\\Temp\\ipykernel_24484\\1598883355.py:2: FutureWarning: Downcasting behavior in `replace` is deprecated and will be removed in a future version. To retain the old behavior, explicitly call `result.infer_objects(copy=False)`. To opt-in to the future behavior, set `pd.set_option('future.no_silent_downcasting', True)`\n",
            "  df[\"Semester\"] = df[\"Semester\"].replace({\"f\": 1, \"s\": 2})\n"
          ]
        }
      ],
      "source": [
        "df[\"StudentAbsenceDays\"] = df[\"StudentAbsenceDays\"].replace({\"low\": 0, \"high\": 1})\n",
        "df[\"Semester\"] = df[\"Semester\"].replace({\"f\": 1, \"s\": 2})\n"
      ]
    },
    {
      "cell_type": "code",
      "execution_count": null,
      "metadata": {
        "id": "o_MDDgtQtqYm",
        "outputId": "aaef7c20-4484-4302-d4aa-3fbf62a70a7f"
      },
      "outputs": [
        {
          "name": "stdout",
          "output_type": "stream",
          "text": [
            "   gender NationalITy PlaceofBirth        StageID GradeID SectionID Topic  \\\n",
            "0       m      kuwait       kuwait   lower_school    g-04         a    it   \n",
            "1       m      kuwait       kuwait   lower_school    g-04         a    it   \n",
            "2       m      kuwait       kuwait   lower_school    g-04         a    it   \n",
            "3       m      kuwait       kuwait   lower_school    g-04         a    it   \n",
            "4       m      kuwait       kuwait   lower_school    g-04         a    it   \n",
            "5       f      kuwait       kuwait   lower_school    g-04         a    it   \n",
            "6       m      kuwait       kuwait  middle_school    g-07         a  math   \n",
            "7       m      kuwait       kuwait  middle_school    g-07         a  math   \n",
            "8       f      kuwait       kuwait  middle_school    g-07         a  math   \n",
            "9       f      kuwait       kuwait  middle_school    g-07         b    it   \n",
            "10      m      kuwait       kuwait  middle_school    g-07         a  math   \n",
            "11      m      kuwait       kuwait  middle_school    g-07         b  math   \n",
            "12      m      kuwait       kuwait   lower_school    g-04         a    it   \n",
            "13      m     lebanon      lebanon  middle_school    g-08         a  math   \n",
            "\n",
            "    Semester Relation  raisedhands  VisITedResources  AnnouncementsView  \\\n",
            "0          1   father           15                16                  2   \n",
            "1          1   father           20                20                  3   \n",
            "2          1   father           10                 7                  0   \n",
            "3          1   father           30                25                  5   \n",
            "4          1   father           40                50                 12   \n",
            "5          1   father           42                30                 13   \n",
            "6          1   father           35                12                  0   \n",
            "7          1   father           50                10                 15   \n",
            "8          1   father           12                21                 16   \n",
            "9          1   father           70                80                 25   \n",
            "10         1   father           50                88                 30   \n",
            "11         1   father           19                 6                 19   \n",
            "12         1   father            5                 1                  0   \n",
            "13         1   father           20                14                 12   \n",
            "\n",
            "    Discussion  ParentAnsweringSurvey  ParentschoolSatisfaction  \\\n",
            "0           20                      1                         1   \n",
            "1           25                      1                         1   \n",
            "2           30                      0                         0   \n",
            "3           35                      0                         0   \n",
            "4           50                      0                         0   \n",
            "5           70                      1                         0   \n",
            "6           17                      0                         0   \n",
            "7           22                      1                         1   \n",
            "8           50                      1                         1   \n",
            "9           70                      1                         1   \n",
            "10          80                      1                         1   \n",
            "11          12                      1                         1   \n",
            "12          11                      0                         0   \n",
            "13          19                      0                         0   \n",
            "\n",
            "    StudentAbsenceDays  Class  \n",
            "0                    0      1  \n",
            "1                    0      1  \n",
            "2                    1      0  \n",
            "3                    1      0  \n",
            "4                    1      1  \n",
            "5                    1      1  \n",
            "6                    1      0  \n",
            "7                    0      1  \n",
            "8                    0      1  \n",
            "9                    0      1  \n",
            "10                   0      2  \n",
            "11                   0      1  \n",
            "12                   1      0  \n",
            "13                   1      0  \n"
          ]
        }
      ],
      "source": [
        "print(df.head(14))"
      ]
    },
    {
      "cell_type": "code",
      "execution_count": null,
      "metadata": {
        "id": "vZ_OMDTytqYm",
        "outputId": "3962d414-0e8d-4806-9647-7192be6cabbd"
      },
      "outputs": [
        {
          "name": "stdout",
          "output_type": "stream",
          "text": [
            "Cleaned data saved to: cleaned_xAPI-Edu-Data.csv\n"
          ]
        }
      ],
      "source": [
        "output_path = \"cleaned_xAPI-Edu-Data.csv\"\n",
        "\n",
        "df.to_csv(output_path, index=False)\n",
        "\n",
        "print(f\"Cleaned data saved to: {output_path}\")"
      ]
    },
    {
      "cell_type": "markdown",
      "source": [
        "#📝 Data Integration\n",
        "\n"
      ],
      "metadata": {
        "id": "cYyxqBAUttOh"
      }
    },
    {
      "cell_type": "markdown",
      "source": [
        "# Decision on Data Integration\n",
        "\n",
        "After thoroughly analyzing both datasets (`student-por.csv` and `xAPI-Edu-Data.csv`), I decided **not to integrate them** due to the following reasons:\n",
        "\n",
        "### **1. No Common Key Found**\n",
        "- There are no shared identifiers like `StudentID`, `School`, or any other unique field that would allow for an accurate merge.\n",
        "- Attempting to merge based on approximate matches (e.g., `StageID` vs. `age`) resulted in an empty dataset, meaning there was no real overlap.\n",
        "\n",
        "### **2. Different Purposes of the Datasets**\n",
        "- **`student-por.csv`** focuses on **student demographics, study habits, and academic performance** (grades like `G1`, `G2`, and `G3`).\n",
        "- **`xAPI-Edu-Data.csv`** focuses on **student engagement and classroom behavior** (e.g., `raised hands`, `visited resources`, `discussion participation`).\n",
        "- Since one dataset is about student **learning outcomes**, and the other is about **behavioral engagement**, they don’t naturally connect.\n",
        "\n",
        "### **3. No Clear Value in Merging**\n",
        "- Even if a merge were forced, it wouldn’t provide **new or useful insights** because the datasets capture **different aspects of student life**.\n",
        "- Merging would result in **highly inconsistent** or **incomplete** data.\n",
        "\n",
        "### **4. Different Data Collection Methods**\n",
        "- `student-por.csv` comes from **student surveys and school records**, focusing on **personal background and study performance**.\n",
        "- `xAPI-Edu-Data.csv` is based on **classroom interaction tracking** (e.g., number of `raised hands`, `visited resources`).\n",
        "- These datasets were collected using **different methodologies**, making them difficult to integrate meaningfully.\n",
        "\n",
        "### **5. Merging Could Introduce Bias**\n",
        "- If an incorrect common key was chosen, we could be **randomly associating** students with engagement data that isn’t actually theirs.\n",
        "- This would lead to **misleading conclusions** about student behavior and academic performance.\n",
        "\n",
        "### **6. More Meaningful Insights Can Be Found Separately**\n",
        "- Instead of forcing integration, it is more valuable to analyze each dataset **individually**.\n",
        "- We can **compare trends** (e.g., does high classroom engagement in `xAPI-Edu-Data.csv` correlate with higher grades in `student-por.csv`?), but they should be studied **as separate entities**.\n",
        "\n",
        "### **Final Decision**\n",
        "➡️ Due to these reasons, I chose to **not to integrate**. Each dataset provides unique insights, but merging them would not add significant value.\n"
      ],
      "metadata": {
        "id": "tAuOZlkiuZTR"
      }
    },
    {
      "cell_type": "markdown",
      "source": [
        "#📝 Data Reduction\n",
        "\n"
      ],
      "metadata": {
        "id": "xp6IDq8D6CHr"
      }
    },
    {
      "cell_type": "code",
      "source": [
        "file_path = 'cleaned_xAPI-Edu-Data.csv'\n",
        "df = pd.read_csv(file_path)\n",
        "df.head()"
      ],
      "metadata": {
        "id": "ydPpUnn86diU"
      },
      "execution_count": null,
      "outputs": []
    },
    {
      "cell_type": "markdown",
      "source": [
        "## Encoding remaining categorical features for Correlation Analysis\n",
        " For correlation analysis, all remaining categorical features were converted into numerical values.This ensures that relationships between variables can be analyzed effectively.\n",
        "\n",
        "### **🟢 Conclusion:**\n",
        "- **Categorical variables were successfully encoded.**\n",
        "- **Encoded values will now be used in correlation analysis.**"
      ],
      "metadata": {
        "id": "NtrSjUrk6s0K"
      }
    },
    {
      "cell_type": "code",
      "source": [
        "df_encoded = df.copy()\n",
        "\n",
        "# List of categorical columns that will not be re-encoded\n",
        "excluded_columns = [\"StudentAbsenceDays\", \"Semester\", \"ParentAnsweringSurvey\", \"ParentschoolSatisfaction\", \"Class\"]\n",
        "\n",
        "# Encode only the remaining categorical columns\n",
        "for col in df_encoded.select_dtypes(include=['object']).columns:\n",
        "    if col not in excluded_columns:\n",
        "        df_encoded[col] = df_encoded[col].astype('category').cat.codes\n",
        "\n",
        "df_encoded.head()\n"
      ],
      "metadata": {
        "id": "2Fi2qdKf6uH2"
      },
      "execution_count": null,
      "outputs": []
    },
    {
      "cell_type": "markdown",
      "source": [
        "## Correlation Analysis & Feature Removal\n",
        "To improve model performance, we analyzed feature correlations and removed highly correlated features.\n",
        "\n",
        "### Analysis Process\n",
        "- **Computed correlation matrix** to examine relationships between numerical features.\n",
        "- **Visualized correlations** using a heatmap.\n",
        "- **Identified highly correlated features** (correlation threshold > **0.8**) for removal.\n",
        "\n",
        "### Correlation Heatmap\n",
        "The heatmap below illustrates the correlation between different numerical features:"
      ],
      "metadata": {
        "id": "GQAMwBJY60WW"
      }
    },
    {
      "cell_type": "code",
      "source": [
        "corr_matrix = df_encoded.corr()\n",
        "\n",
        "# Plot heatmap\n",
        "plt.figure(figsize=(12, 8))\n",
        "sns.heatmap(corr_matrix, annot=True, cmap='coolwarm', fmt='.2f', linewidths=0.5)\n",
        "plt.title('Correlation Heatmap of Numerical Features')\n",
        "plt.show()\n",
        "\n",
        "# Identify highly correlated features\n",
        "correlated_features = set()\n",
        "threshold = 0.8\n",
        "for i in range(len(corr_matrix.columns)):\n",
        "    for j in range(i):\n",
        "        if abs(corr_matrix.iloc[i, j]) > threshold:\n",
        "            colname = corr_matrix.columns[i]\n",
        "            correlated_features.add(colname)\n",
        "\n",
        "df.drop(columns=correlated_features, inplace=True)\n",
        "df.head()"
      ],
      "metadata": {
        "id": "I6EXV-jQ69Lr"
      },
      "execution_count": null,
      "outputs": []
    },
    {
      "cell_type": "markdown",
      "source": [
        "## Reducing High-Cardinality Categorical Features\n",
        "High-cardinality categorical features, such as **NationalITy**, can introduce unnecessary complexity in the dataset. To simplify the feature while preserving valuable information, low-frequency categories were grouped together.\n",
        "\n",
        "### Sample Transformed Data\n",
        "The dataset now represents frequent nationalities distinctly, while less common ones are combined under `\"Other\"`:\n",
        "\n",
        "| NationalITy  |\n",
        "|-------------|\n",
        "| Egypt       |\n",
        "| Jordan      |\n",
        "| Kuwait      |\n",
        "| Other       |\n",
        "| SaudiArabia |\n",
        "\n",
        "### **🟢 Conclusion:**\n",
        "- **Reduced the number of unique values** in `NationalITy`, making it more manageable.\n",
        "- **Preserved key variations** while avoiding sparsity.\n"
      ],
      "metadata": {
        "id": "jxOe0XUh7A5w"
      }
    },
    {
      "cell_type": "code",
      "source": [
        "nationality_counts = df['NationalITy'].value_counts()\n",
        "threshold_nationality = 10  # Categories with less than 10 occurrences will be grouped\n",
        "df['NationalITy'] = df['NationalITy'].apply(\n",
        "    lambda x: x if nationality_counts[x] >= threshold_nationality else 'Other'\n",
        ")"
      ],
      "metadata": {
        "id": "L-YNtP1O7Fk3"
      },
      "execution_count": null,
      "outputs": []
    },
    {
      "cell_type": "markdown",
      "source": [
        "## Removing Redundant Categorical Columns\n",
        "Some categorical columns may not provide significant value for analysis or may introduce redundancy. In this case, **`PlaceofBirth`** was identified as a redundant feature and removed.\n",
        "\n",
        "### Sample Transformed Data\n",
        "After removal, the dataset structure remains intact while improving efficiency.\n",
        "\n",
        "| gender | NationalITy | StageID | GradeID | SectionID | Topic | Semester | Relation | raisedhands | VisITedResources | AnnouncementsView | Discussion | ParentAnsweringSurvey | ParentschoolSatisfaction | StudentAbsenceDays | Class |\n",
        "|--------|------------|--------|--------|----------|-------|---------|----------|------------|----------------|-----------------|------------|----------------------|-----------------------|----------------|-------|\n",
        "| 1      | Egypt      | 1      | 1      | 0        | 7     | 1       | 0        | 15         | 16             | 2               | 20         | 1                    | 1                     | 0              | 1     |\n",
        "| 1      | Jordan     | 1      | 1      | 0        | 7     | 1       | 0        | 20         | 20             | 3               | 25         | 1                    | 1                     | 0              | 1     |\n",
        "| 1      | Other      | 1      | 1      | 0        | 7     | 1       | 0        | 10         | 7              | 0               | 30         | 0                    | 0                     | 1              | 0     |\n",
        "| 1      | Kuwait    | 1      | 1      | 0        | 7     | 1       | 0        | 30         | 25             | 5               | 35         | 0                    | 0                     | 1              | 0     |\n",
        "| 1      | Other     | 1      | 1      | 0        | 7     | 1       | 0        | 40         | 50             | 12              | 50         | 0                    | 0                     | 1              | 1     |\n",
        "\n",
        "### **🟢 Conclusion:**\n",
        "- **`PlaceofBirth` was removed** to reduce redundancy.\n",
        "- **The dataset remains informative and compact.**"
      ],
      "metadata": {
        "id": "xsUunlpI7I1v"
      }
    },
    {
      "cell_type": "code",
      "source": [
        "df.drop(columns=['PlaceofBirth'], inplace=True)\n"
      ],
      "metadata": {
        "id": "JlVKpHHu7Oaa"
      },
      "execution_count": null,
      "outputs": []
    },
    {
      "cell_type": "code",
      "source": [
        "df.to_csv('reduced_dataset.csv', index=False)"
      ],
      "metadata": {
        "id": "3_jL648t7QYY"
      },
      "execution_count": null,
      "outputs": []
    }
  ],
  "metadata": {
    "kernelspec": {
      "display_name": "Python 3",
      "language": "python",
      "name": "python3"
    },
    "language_info": {
      "codemirror_mode": {
        "name": "ipython",
        "version": 3
      },
      "file_extension": ".py",
      "mimetype": "text/x-python",
      "name": "python",
      "nbconvert_exporter": "python",
      "pygments_lexer": "ipython3",
      "version": "3.10.1"
    },
    "colab": {
      "provenance": []
    }
  },
  "nbformat": 4,
  "nbformat_minor": 0
}